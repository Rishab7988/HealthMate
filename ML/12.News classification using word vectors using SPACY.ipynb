{
 "cells": [
  {
   "cell_type": "code",
   "execution_count": 274,
   "metadata": {},
   "outputs": [],
   "source": [
    "import spacy\n",
    "import numpy as np\n",
    "import pandas as pd"
   ]
  },
  {
   "cell_type": "code",
   "execution_count": 275,
   "metadata": {},
   "outputs": [
    {
     "data": {
      "text/html": [
       "<div>\n",
       "<style scoped>\n",
       "    .dataframe tbody tr th:only-of-type {\n",
       "        vertical-align: middle;\n",
       "    }\n",
       "\n",
       "    .dataframe tbody tr th {\n",
       "        vertical-align: top;\n",
       "    }\n",
       "\n",
       "    .dataframe thead th {\n",
       "        text-align: right;\n",
       "    }\n",
       "</style>\n",
       "<table border=\"1\" class=\"dataframe\">\n",
       "  <thead>\n",
       "    <tr style=\"text-align: right;\">\n",
       "      <th></th>\n",
       "      <th>Unnamed: 0</th>\n",
       "      <th>label</th>\n",
       "      <th>text</th>\n",
       "    </tr>\n",
       "  </thead>\n",
       "  <tbody>\n",
       "    <tr>\n",
       "      <th>0</th>\n",
       "      <td>0</td>\n",
       "      <td>Psoriasis</td>\n",
       "      <td>I have been experiencing a skin rash on my arm...</td>\n",
       "    </tr>\n",
       "    <tr>\n",
       "      <th>1</th>\n",
       "      <td>1</td>\n",
       "      <td>Psoriasis</td>\n",
       "      <td>My skin has been peeling, especially on my kne...</td>\n",
       "    </tr>\n",
       "    <tr>\n",
       "      <th>2</th>\n",
       "      <td>2</td>\n",
       "      <td>Psoriasis</td>\n",
       "      <td>I have been experiencing joint pain in my fing...</td>\n",
       "    </tr>\n",
       "    <tr>\n",
       "      <th>3</th>\n",
       "      <td>3</td>\n",
       "      <td>Psoriasis</td>\n",
       "      <td>There is a silver like dusting on my skin, esp...</td>\n",
       "    </tr>\n",
       "    <tr>\n",
       "      <th>4</th>\n",
       "      <td>4</td>\n",
       "      <td>Psoriasis</td>\n",
       "      <td>My nails have small dents or pits in them, and...</td>\n",
       "    </tr>\n",
       "  </tbody>\n",
       "</table>\n",
       "</div>"
      ],
      "text/plain": [
       "   Unnamed: 0      label                                               text\n",
       "0           0  Psoriasis  I have been experiencing a skin rash on my arm...\n",
       "1           1  Psoriasis  My skin has been peeling, especially on my kne...\n",
       "2           2  Psoriasis  I have been experiencing joint pain in my fing...\n",
       "3           3  Psoriasis  There is a silver like dusting on my skin, esp...\n",
       "4           4  Psoriasis  My nails have small dents or pits in them, and..."
      ]
     },
     "execution_count": 275,
     "metadata": {},
     "output_type": "execute_result"
    }
   ],
   "source": [
    "df=pd.read_csv(r\"Symptom2Disease.csv\")\n",
    "df.head()"
   ]
  },
  {
   "cell_type": "code",
   "execution_count": 276,
   "metadata": {},
   "outputs": [
    {
     "data": {
      "text/plain": [
       "Index(['Unnamed: 0', 'label', 'text'], dtype='object')"
      ]
     },
     "execution_count": 276,
     "metadata": {},
     "output_type": "execute_result"
    }
   ],
   "source": [
    "df.columns"
   ]
  },
  {
   "cell_type": "code",
   "execution_count": 277,
   "metadata": {},
   "outputs": [
    {
     "data": {
      "text/html": [
       "<div>\n",
       "<style scoped>\n",
       "    .dataframe tbody tr th:only-of-type {\n",
       "        vertical-align: middle;\n",
       "    }\n",
       "\n",
       "    .dataframe tbody tr th {\n",
       "        vertical-align: top;\n",
       "    }\n",
       "\n",
       "    .dataframe thead th {\n",
       "        text-align: right;\n",
       "    }\n",
       "</style>\n",
       "<table border=\"1\" class=\"dataframe\">\n",
       "  <thead>\n",
       "    <tr style=\"text-align: right;\">\n",
       "      <th></th>\n",
       "      <th>label</th>\n",
       "      <th>text</th>\n",
       "    </tr>\n",
       "  </thead>\n",
       "  <tbody>\n",
       "    <tr>\n",
       "      <th>0</th>\n",
       "      <td>Psoriasis</td>\n",
       "      <td>I have been experiencing a skin rash on my arm...</td>\n",
       "    </tr>\n",
       "    <tr>\n",
       "      <th>1</th>\n",
       "      <td>Psoriasis</td>\n",
       "      <td>My skin has been peeling, especially on my kne...</td>\n",
       "    </tr>\n",
       "    <tr>\n",
       "      <th>2</th>\n",
       "      <td>Psoriasis</td>\n",
       "      <td>I have been experiencing joint pain in my fing...</td>\n",
       "    </tr>\n",
       "    <tr>\n",
       "      <th>3</th>\n",
       "      <td>Psoriasis</td>\n",
       "      <td>There is a silver like dusting on my skin, esp...</td>\n",
       "    </tr>\n",
       "    <tr>\n",
       "      <th>4</th>\n",
       "      <td>Psoriasis</td>\n",
       "      <td>My nails have small dents or pits in them, and...</td>\n",
       "    </tr>\n",
       "  </tbody>\n",
       "</table>\n",
       "</div>"
      ],
      "text/plain": [
       "       label                                               text\n",
       "0  Psoriasis  I have been experiencing a skin rash on my arm...\n",
       "1  Psoriasis  My skin has been peeling, especially on my kne...\n",
       "2  Psoriasis  I have been experiencing joint pain in my fing...\n",
       "3  Psoriasis  There is a silver like dusting on my skin, esp...\n",
       "4  Psoriasis  My nails have small dents or pits in them, and..."
      ]
     },
     "execution_count": 277,
     "metadata": {},
     "output_type": "execute_result"
    }
   ],
   "source": [
    "df.drop('Unnamed: 0',axis=1,inplace=True)\n",
    "df.head()"
   ]
  },
  {
   "cell_type": "code",
   "execution_count": 278,
   "metadata": {},
   "outputs": [
    {
     "data": {
      "text/plain": [
       "array(['Psoriasis', 'Varicose Veins', 'Typhoid', 'Chicken pox',\n",
       "       'Impetigo', 'Dengue', 'Fungal infection', 'Common Cold',\n",
       "       'Pneumonia', 'Dimorphic Hemorrhoids', 'Arthritis', 'Acne',\n",
       "       'Bronchial Asthma', 'Hypertension', 'Migraine',\n",
       "       'Cervical spondylosis', 'Jaundice', 'Malaria',\n",
       "       'urinary tract infection', 'allergy',\n",
       "       'gastroesophageal reflux disease', 'drug reaction',\n",
       "       'peptic ulcer disease', 'diabetes'], dtype=object)"
      ]
     },
     "execution_count": 278,
     "metadata": {},
     "output_type": "execute_result"
    }
   ],
   "source": [
    "my_disease=df['label'].unique()\n",
    "my_disease"
   ]
  },
  {
   "cell_type": "code",
   "execution_count": 279,
   "metadata": {},
   "outputs": [],
   "source": [
    "my_dict={'Psoriasis':1, 'Varicose Veins':2, 'Typhoid':3, 'Chicken pox':4,\n",
    "       'Impetigo':5, 'Dengue':6, 'Fungal infection':7, 'Common Cold':8,\n",
    "       'Pneumonia':9, 'Dimorphic Hemorrhoids':10, 'Arthritis':11, 'Acne':12,\n",
    "       'Bronchial Asthma':13, 'Hypertension':14, 'Migraine':15,\n",
    "       'Cervical spondylosis':16, 'Jaundice':17, 'Malaria':18,\n",
    "       'urinary tract infection':18, 'allergy':19,\n",
    "       'gastroesophageal reflux disease':20, 'drug reaction':21,\n",
    "       'peptic ulcer disease':22, 'diabetes':23}"
   ]
  },
  {
   "cell_type": "code",
   "execution_count": 280,
   "metadata": {},
   "outputs": [
    {
     "data": {
      "text/plain": [
       "24"
      ]
     },
     "execution_count": 280,
     "metadata": {},
     "output_type": "execute_result"
    }
   ],
   "source": [
    "len(my_disease)"
   ]
  },
  {
   "cell_type": "code",
   "execution_count": 281,
   "metadata": {},
   "outputs": [
    {
     "data": {
      "text/plain": [
       "(300,)"
      ]
     },
     "execution_count": 281,
     "metadata": {},
     "output_type": "execute_result"
    }
   ],
   "source": [
    "nlp=spacy.load(\"en_core_web_lg\")\n",
    "doc=nlp(\"Bernie Sanders has taken America and the world\")\n",
    "doc.vector.shape"
   ]
  },
  {
   "cell_type": "code",
   "execution_count": 282,
   "metadata": {},
   "outputs": [
    {
     "data": {
      "text/html": [
       "<div>\n",
       "<style scoped>\n",
       "    .dataframe tbody tr th:only-of-type {\n",
       "        vertical-align: middle;\n",
       "    }\n",
       "\n",
       "    .dataframe tbody tr th {\n",
       "        vertical-align: top;\n",
       "    }\n",
       "\n",
       "    .dataframe thead th {\n",
       "        text-align: right;\n",
       "    }\n",
       "</style>\n",
       "<table border=\"1\" class=\"dataframe\">\n",
       "  <thead>\n",
       "    <tr style=\"text-align: right;\">\n",
       "      <th></th>\n",
       "      <th>label</th>\n",
       "      <th>text</th>\n",
       "      <th>text vector</th>\n",
       "    </tr>\n",
       "  </thead>\n",
       "  <tbody>\n",
       "    <tr>\n",
       "      <th>0</th>\n",
       "      <td>Psoriasis</td>\n",
       "      <td>I have been experiencing a skin rash on my arm...</td>\n",
       "      <td>[-0.9800024, 0.23233683, -2.8956056, 0.4936634...</td>\n",
       "    </tr>\n",
       "    <tr>\n",
       "      <th>1</th>\n",
       "      <td>Psoriasis</td>\n",
       "      <td>My skin has been peeling, especially on my kne...</td>\n",
       "      <td>[-0.6406128, -0.052214265, -3.7610066, -0.3640...</td>\n",
       "    </tr>\n",
       "    <tr>\n",
       "      <th>2</th>\n",
       "      <td>Psoriasis</td>\n",
       "      <td>I have been experiencing joint pain in my fing...</td>\n",
       "      <td>[0.18709338, 0.41869602, -2.847488, -0.5365884...</td>\n",
       "    </tr>\n",
       "    <tr>\n",
       "      <th>3</th>\n",
       "      <td>Psoriasis</td>\n",
       "      <td>There is a silver like dusting on my skin, esp...</td>\n",
       "      <td>[-1.1879317, 0.48687568, -3.3808053, 0.4752692...</td>\n",
       "    </tr>\n",
       "    <tr>\n",
       "      <th>4</th>\n",
       "      <td>Psoriasis</td>\n",
       "      <td>My nails have small dents or pits in them, and...</td>\n",
       "      <td>[-0.74316317, 0.96162474, -4.350618, -0.047534...</td>\n",
       "    </tr>\n",
       "  </tbody>\n",
       "</table>\n",
       "</div>"
      ],
      "text/plain": [
       "       label                                               text  \\\n",
       "0  Psoriasis  I have been experiencing a skin rash on my arm...   \n",
       "1  Psoriasis  My skin has been peeling, especially on my kne...   \n",
       "2  Psoriasis  I have been experiencing joint pain in my fing...   \n",
       "3  Psoriasis  There is a silver like dusting on my skin, esp...   \n",
       "4  Psoriasis  My nails have small dents or pits in them, and...   \n",
       "\n",
       "                                         text vector  \n",
       "0  [-0.9800024, 0.23233683, -2.8956056, 0.4936634...  \n",
       "1  [-0.6406128, -0.052214265, -3.7610066, -0.3640...  \n",
       "2  [0.18709338, 0.41869602, -2.847488, -0.5365884...  \n",
       "3  [-1.1879317, 0.48687568, -3.3808053, 0.4752692...  \n",
       "4  [-0.74316317, 0.96162474, -4.350618, -0.047534...  "
      ]
     },
     "execution_count": 282,
     "metadata": {},
     "output_type": "execute_result"
    }
   ],
   "source": [
    "df['text vector']=df['text'].apply(lambda x: nlp(x).vector)\n",
    "df.head()"
   ]
  },
  {
   "cell_type": "code",
   "execution_count": 283,
   "metadata": {},
   "outputs": [],
   "source": [
    "df['label_num']=df['label'].apply(lambda x: my_dict[x])"
   ]
  },
  {
   "cell_type": "code",
   "execution_count": 284,
   "metadata": {},
   "outputs": [
    {
     "data": {
      "text/html": [
       "<div>\n",
       "<style scoped>\n",
       "    .dataframe tbody tr th:only-of-type {\n",
       "        vertical-align: middle;\n",
       "    }\n",
       "\n",
       "    .dataframe tbody tr th {\n",
       "        vertical-align: top;\n",
       "    }\n",
       "\n",
       "    .dataframe thead th {\n",
       "        text-align: right;\n",
       "    }\n",
       "</style>\n",
       "<table border=\"1\" class=\"dataframe\">\n",
       "  <thead>\n",
       "    <tr style=\"text-align: right;\">\n",
       "      <th></th>\n",
       "      <th>label</th>\n",
       "      <th>text</th>\n",
       "      <th>text vector</th>\n",
       "      <th>label_num</th>\n",
       "    </tr>\n",
       "  </thead>\n",
       "  <tbody>\n",
       "    <tr>\n",
       "      <th>0</th>\n",
       "      <td>Psoriasis</td>\n",
       "      <td>I have been experiencing a skin rash on my arm...</td>\n",
       "      <td>[-0.9800024, 0.23233683, -2.8956056, 0.4936634...</td>\n",
       "      <td>1</td>\n",
       "    </tr>\n",
       "    <tr>\n",
       "      <th>1</th>\n",
       "      <td>Psoriasis</td>\n",
       "      <td>My skin has been peeling, especially on my kne...</td>\n",
       "      <td>[-0.6406128, -0.052214265, -3.7610066, -0.3640...</td>\n",
       "      <td>1</td>\n",
       "    </tr>\n",
       "    <tr>\n",
       "      <th>2</th>\n",
       "      <td>Psoriasis</td>\n",
       "      <td>I have been experiencing joint pain in my fing...</td>\n",
       "      <td>[0.18709338, 0.41869602, -2.847488, -0.5365884...</td>\n",
       "      <td>1</td>\n",
       "    </tr>\n",
       "    <tr>\n",
       "      <th>3</th>\n",
       "      <td>Psoriasis</td>\n",
       "      <td>There is a silver like dusting on my skin, esp...</td>\n",
       "      <td>[-1.1879317, 0.48687568, -3.3808053, 0.4752692...</td>\n",
       "      <td>1</td>\n",
       "    </tr>\n",
       "    <tr>\n",
       "      <th>4</th>\n",
       "      <td>Psoriasis</td>\n",
       "      <td>My nails have small dents or pits in them, and...</td>\n",
       "      <td>[-0.74316317, 0.96162474, -4.350618, -0.047534...</td>\n",
       "      <td>1</td>\n",
       "    </tr>\n",
       "  </tbody>\n",
       "</table>\n",
       "</div>"
      ],
      "text/plain": [
       "       label                                               text  \\\n",
       "0  Psoriasis  I have been experiencing a skin rash on my arm...   \n",
       "1  Psoriasis  My skin has been peeling, especially on my kne...   \n",
       "2  Psoriasis  I have been experiencing joint pain in my fing...   \n",
       "3  Psoriasis  There is a silver like dusting on my skin, esp...   \n",
       "4  Psoriasis  My nails have small dents or pits in them, and...   \n",
       "\n",
       "                                         text vector  label_num  \n",
       "0  [-0.9800024, 0.23233683, -2.8956056, 0.4936634...          1  \n",
       "1  [-0.6406128, -0.052214265, -3.7610066, -0.3640...          1  \n",
       "2  [0.18709338, 0.41869602, -2.847488, -0.5365884...          1  \n",
       "3  [-1.1879317, 0.48687568, -3.3808053, 0.4752692...          1  \n",
       "4  [-0.74316317, 0.96162474, -4.350618, -0.047534...          1  "
      ]
     },
     "execution_count": 284,
     "metadata": {},
     "output_type": "execute_result"
    }
   ],
   "source": [
    "df.head()"
   ]
  },
  {
   "cell_type": "code",
   "execution_count": 285,
   "metadata": {},
   "outputs": [
    {
     "data": {
      "text/html": [
       "<div>\n",
       "<style scoped>\n",
       "    .dataframe tbody tr th:only-of-type {\n",
       "        vertical-align: middle;\n",
       "    }\n",
       "\n",
       "    .dataframe tbody tr th {\n",
       "        vertical-align: top;\n",
       "    }\n",
       "\n",
       "    .dataframe thead th {\n",
       "        text-align: right;\n",
       "    }\n",
       "</style>\n",
       "<table border=\"1\" class=\"dataframe\">\n",
       "  <thead>\n",
       "    <tr style=\"text-align: right;\">\n",
       "      <th></th>\n",
       "      <th>label</th>\n",
       "      <th>text</th>\n",
       "      <th>text vector</th>\n",
       "      <th>label_num</th>\n",
       "    </tr>\n",
       "  </thead>\n",
       "  <tbody>\n",
       "    <tr>\n",
       "      <th>485</th>\n",
       "      <td>Dimorphic Hemorrhoids</td>\n",
       "      <td>I've been experiencing a lot of problems with ...</td>\n",
       "      <td>[0.6201701, 1.6383687, -3.2903316, -1.6322908,...</td>\n",
       "      <td>10</td>\n",
       "    </tr>\n",
       "    <tr>\n",
       "      <th>776</th>\n",
       "      <td>Cervical spondylosis</td>\n",
       "      <td>My arms and legs have been weak, and I have be...</td>\n",
       "      <td>[-0.9344119, -0.14979437, -3.2774932, -0.35201...</td>\n",
       "      <td>16</td>\n",
       "    </tr>\n",
       "    <tr>\n",
       "      <th>1161</th>\n",
       "      <td>diabetes</td>\n",
       "      <td>My vision is foggy, and it seems to be growing...</td>\n",
       "      <td>[-0.5241863, 0.44245565, -2.9382946, -1.004569...</td>\n",
       "      <td>23</td>\n",
       "    </tr>\n",
       "    <tr>\n",
       "      <th>1047</th>\n",
       "      <td>gastroesophageal reflux disease</td>\n",
       "      <td>My throat often feels like it's on fire, espec...</td>\n",
       "      <td>[0.30641073, 0.3235194, -2.5786948, -1.1797795...</td>\n",
       "      <td>20</td>\n",
       "    </tr>\n",
       "    <tr>\n",
       "      <th>931</th>\n",
       "      <td>urinary tract infection</td>\n",
       "      <td>My pee smells strongly and is cloudy in appear...</td>\n",
       "      <td>[-0.8394503, 0.7801217, -3.101169, -0.45186615...</td>\n",
       "      <td>18</td>\n",
       "    </tr>\n",
       "  </tbody>\n",
       "</table>\n",
       "</div>"
      ],
      "text/plain": [
       "                                label  \\\n",
       "485             Dimorphic Hemorrhoids   \n",
       "776              Cervical spondylosis   \n",
       "1161                         diabetes   \n",
       "1047  gastroesophageal reflux disease   \n",
       "931           urinary tract infection   \n",
       "\n",
       "                                                   text  \\\n",
       "485   I've been experiencing a lot of problems with ...   \n",
       "776   My arms and legs have been weak, and I have be...   \n",
       "1161  My vision is foggy, and it seems to be growing...   \n",
       "1047  My throat often feels like it's on fire, espec...   \n",
       "931   My pee smells strongly and is cloudy in appear...   \n",
       "\n",
       "                                            text vector  label_num  \n",
       "485   [0.6201701, 1.6383687, -3.2903316, -1.6322908,...         10  \n",
       "776   [-0.9344119, -0.14979437, -3.2774932, -0.35201...         16  \n",
       "1161  [-0.5241863, 0.44245565, -2.9382946, -1.004569...         23  \n",
       "1047  [0.30641073, 0.3235194, -2.5786948, -1.1797795...         20  \n",
       "931   [-0.8394503, 0.7801217, -3.101169, -0.45186615...         18  "
      ]
     },
     "execution_count": 285,
     "metadata": {},
     "output_type": "execute_result"
    }
   ],
   "source": [
    "df = df.sample(frac = 1)\n",
    "df.head()"
   ]
  },
  {
   "cell_type": "code",
   "execution_count": 286,
   "metadata": {},
   "outputs": [],
   "source": [
    "from sklearn.model_selection import train_test_split\n",
    "\n",
    "X=df['text vector'].values\n",
    "y=df['label']\n",
    "\n",
    "X_train, X_test, y_train, y_test = train_test_split(X, y, test_size=0.2, random_state=42,shuffle=True)\n"
   ]
  },
  {
   "cell_type": "code",
   "execution_count": 287,
   "metadata": {},
   "outputs": [
    {
     "data": {
      "text/plain": [
       "543                Arthritis\n",
       "1133    peptic ulcer disease\n",
       "950                  allergy\n",
       "411                Pneumonia\n",
       "1                  Psoriasis\n",
       "                ...         \n",
       "509                Arthritis\n",
       "320         Fungal infection\n",
       "1182                diabetes\n",
       "784     Cervical spondylosis\n",
       "417                Pneumonia\n",
       "Name: label, Length: 960, dtype: object"
      ]
     },
     "execution_count": 287,
     "metadata": {},
     "output_type": "execute_result"
    }
   ],
   "source": [
    "y_train"
   ]
  },
  {
   "cell_type": "code",
   "execution_count": 288,
   "metadata": {},
   "outputs": [
    {
     "data": {
      "text/plain": [
       "array([ 2.93719590e-01,  2.21120238e+00, -4.13426828e+00, -6.01909161e-01,\n",
       "        3.26805782e+00,  5.53525627e-01, -1.03297681e-01,  5.12723255e+00,\n",
       "       -6.25758708e-01,  1.27364016e+00,  5.15338182e+00,  2.00599933e+00,\n",
       "       -2.61881375e+00,  8.48389804e-01,  2.24022365e+00, -1.23533472e-01,\n",
       "        9.40877676e-01, -2.43544602e+00, -1.30725098e+00, -2.41795278e+00,\n",
       "        9.74185705e-01, -4.82368082e-01,  5.41910350e-01, -3.91757846e+00,\n",
       "        3.41799974e-01, -3.24368811e+00, -2.95252776e+00, -1.36701536e+00,\n",
       "       -9.68612492e-01,  1.33026624e+00,  1.12210107e+00, -6.77647665e-02,\n",
       "       -1.03084850e+00, -1.34764647e+00, -2.13028717e+00, -7.60917425e-01,\n",
       "       -1.14058697e+00,  2.64395905e+00,  2.28561115e+00,  1.59579480e+00,\n",
       "        1.52828753e+00,  7.17738867e-01, -5.31332076e-01, -1.90705299e+00,\n",
       "       -6.35066628e-01,  7.04948843e-01,  1.28584373e+00, -3.16152024e+00,\n",
       "       -2.02578497e+00,  3.19605732e+00,  1.09804285e+00,  7.76921213e-01,\n",
       "       -2.05838382e-01, -4.39676142e+00, -1.31088391e-01, -3.86930555e-01,\n",
       "        1.08602369e+00,  9.64216650e-01,  9.05621827e-01,  1.11870944e+00,\n",
       "        1.80974102e+00, -1.91091761e-01,  1.15765095e-01, -8.12981963e-01,\n",
       "        1.08508801e+00,  5.95491230e-01, -2.56602740e+00, -2.85260248e+00,\n",
       "       -9.80505824e-01,  2.99314648e-01, -2.70123273e-01, -3.60502809e-01,\n",
       "       -6.82616591e-01,  9.12464321e-01,  6.59577966e-01,  8.28976557e-02,\n",
       "       -3.21704769e+00,  1.56598544e+00, -3.56147099e+00, -5.09961903e-01,\n",
       "       -5.34825230e+00, -2.45340884e-01,  1.41365969e+00, -7.82258034e-01,\n",
       "        3.48577142e+00,  4.53457013e-02, -1.37612796e+00, -1.39709008e+00,\n",
       "        2.00242192e-01, -9.50483918e-01, -1.63227654e+00,  3.63753885e-01,\n",
       "        1.20990050e+00, -5.38269091e+00,  4.42272365e-01, -1.20832765e+00,\n",
       "        7.77114332e-01, -2.02145958e+00,  3.28922749e-01,  4.08271432e-01,\n",
       "        1.18896163e+00,  1.80377126e+00,  2.07862973e+00,  1.80207562e+00,\n",
       "        3.16501111e-01,  3.09107375e+00, -1.13491940e+00, -1.42198169e+00,\n",
       "       -1.18962538e+00, -2.52688694e+00,  3.77770215e-01,  4.70784962e-01,\n",
       "       -5.99438488e-01,  4.67725217e-01,  1.78183663e+00,  1.12581146e+00,\n",
       "       -1.10650826e+00, -1.57366407e+00,  7.05610991e-01, -9.79149818e-01,\n",
       "       -1.80241585e+00, -2.69890261e+00, -1.54518092e+00,  1.52270353e+00,\n",
       "       -5.30639410e-01, -9.45857406e-01,  1.41998410e+00, -1.12158322e+00,\n",
       "        5.02375603e-01, -1.05657911e+00, -1.64532876e+00,  3.37787658e-01,\n",
       "        4.08410311e+00, -1.42984581e+00,  3.87999922e-01,  1.42926127e-01,\n",
       "       -3.43886614e+00, -2.33862090e+00,  3.73599982e+00, -1.58546293e+00,\n",
       "       -2.16749310e+00, -1.22285938e+00,  1.00772130e+00,  6.31684303e-01,\n",
       "        3.67805362e-01,  4.02950913e-01, -3.51521301e+00,  1.03798687e+00,\n",
       "        2.18889880e+00,  7.80843437e-01, -2.95323968e-01,  1.61997688e+00,\n",
       "       -9.57347691e-01,  1.31574512e+00, -1.90718615e+00,  2.03292942e+00,\n",
       "        3.09317255e+00, -6.00650012e-01, -2.36921382e+00, -7.28093088e-01,\n",
       "       -1.93773910e-01, -2.90290499e+00, -1.43286610e+00,  1.48134995e+00,\n",
       "       -2.94596004e+00, -1.46236122e+00, -1.69681358e+00,  1.23145556e+00,\n",
       "       -6.50534809e-01, -1.70886934e-01,  2.17543101e+00,  1.13990232e-01,\n",
       "        3.22518754e+00,  2.59949923e-01,  6.45824611e-01, -1.21227682e+00,\n",
       "       -8.38365674e-01,  6.46708965e-01,  2.53565609e-01, -1.92535365e+00,\n",
       "       -7.18358696e-01,  9.64644670e-01,  3.24780869e+00,  8.06379437e-01,\n",
       "       -1.82969952e+00,  3.69866520e-01, -1.96050775e+00, -1.51765525e+00,\n",
       "        1.04176140e+00,  1.59061837e+00, -7.10005239e-02,  5.81612766e-01,\n",
       "       -5.96038124e-04, -1.96339643e+00, -1.11199582e+00, -1.75737214e+00,\n",
       "       -2.43404770e+00,  7.65683353e-01,  3.18155318e-01,  1.26873386e+00,\n",
       "       -2.66438437e+00, -1.60405016e+00, -1.49840474e+00, -2.52903509e+00,\n",
       "        4.61930692e-01,  1.49095869e+00, -3.16606951e+00,  2.12918782e+00,\n",
       "       -4.05577630e-01, -1.08660877e+00,  7.28422046e-01,  2.03248572e+00,\n",
       "        4.62493718e-01,  1.42506397e+00, -1.37731636e+00,  1.72202086e+00,\n",
       "       -6.77628666e-02, -1.53996754e+00,  4.81066287e-01, -9.28286254e-01,\n",
       "       -2.57690859e+00,  6.96182311e-01,  5.20975925e-02,  7.93767810e-01,\n",
       "       -8.52511466e-01, -2.46518230e+00,  1.27604425e-01,  2.10469723e+00,\n",
       "        2.90110135e+00,  9.42618549e-01,  2.86595315e-01, -3.00677729e+00,\n",
       "        1.85196936e-01,  1.59838867e+00,  7.04334676e-01,  2.12175655e+00,\n",
       "       -3.22564769e+00,  1.19132125e+00, -3.36803138e-01,  5.01188897e-02,\n",
       "       -1.32641971e+00,  4.35810983e-01,  1.98870349e+00, -6.56807780e-01,\n",
       "       -1.56907773e+00,  6.03807032e-01, -2.77143431e+00, -6.91542506e-01,\n",
       "        1.03426576e+00,  2.27657557e+00, -5.69767058e-01, -9.43062544e-01,\n",
       "       -4.95049238e+00,  8.50320756e-02,  3.74468863e-01, -2.38786483e+00,\n",
       "        1.80627036e+00,  3.94593358e-01, -9.51489925e-01,  4.68445092e-01,\n",
       "        1.11424184e+00,  4.44035006e+00,  3.94448924e+00,  3.13179803e+00,\n",
       "        3.04238915e+00, -1.96520075e-01,  2.60712057e-01,  2.01142383e+00,\n",
       "       -1.92941642e+00,  1.52949715e+00,  1.66311455e+00, -8.01031172e-01,\n",
       "       -5.80773950e-01, -1.85116243e+00, -1.20157349e+00,  3.06159824e-01,\n",
       "        4.97507393e-01, -5.90178370e-03, -1.21648777e+00,  1.80448902e+00,\n",
       "        4.31008846e-01, -3.16858649e-01, -6.56048119e-01,  1.33122003e+00,\n",
       "        3.80279398e+00, -4.43164110e-01,  2.58477688e-01,  1.72193336e+00,\n",
       "       -2.71525526e+00,  4.47288603e-01,  1.07668316e+00, -1.22754490e+00,\n",
       "        1.13697462e-01, -9.28938746e-01, -1.48996961e+00,  4.52804774e-01,\n",
       "        4.48359340e-01,  3.13074410e-01, -4.57270145e+00,  1.36819232e+00],\n",
       "      dtype=float32)"
      ]
     },
     "execution_count": 288,
     "metadata": {},
     "output_type": "execute_result"
    }
   ],
   "source": [
    "X_train[0]"
   ]
  },
  {
   "cell_type": "code",
   "execution_count": 289,
   "metadata": {},
   "outputs": [],
   "source": [
    "# converting X_train to a 2D numpy array\n",
    "X_train_2d=np.stack(X_train)\n",
    "X_test_2d=np.stack(X_test)\n"
   ]
  },
  {
   "cell_type": "code",
   "execution_count": 290,
   "metadata": {},
   "outputs": [
    {
     "data": {
      "text/plain": [
       "array([[ 2.9371959e-01,  2.2112024e+00, -4.1342683e+00, ...,\n",
       "         3.1307441e-01, -4.5727015e+00,  1.3681923e+00],\n",
       "       [-1.8071531e+00, -1.9360095e-02, -3.4666755e+00, ...,\n",
       "         2.6570573e-01, -4.0285587e+00,  9.1242158e-01],\n",
       "       [-1.1170607e-01, -3.1377935e-01, -2.2711110e+00, ...,\n",
       "        -4.6166551e-01, -4.4491239e+00,  1.2306770e+00],\n",
       "       ...,\n",
       "       [-8.5572600e-01, -5.4070020e-01, -3.4198666e+00, ...,\n",
       "         9.6730995e-01, -4.5316405e+00,  1.2322716e+00],\n",
       "       [-1.1373304e+00,  1.2148006e-03, -3.2634153e+00, ...,\n",
       "        -1.5138375e+00, -3.8735425e+00,  2.6321974e-01],\n",
       "       [ 8.5780919e-02,  2.2255908e-01, -3.6410701e+00, ...,\n",
       "         1.2926139e+00, -5.1379280e+00,  1.0771266e+00]], dtype=float32)"
      ]
     },
     "execution_count": 290,
     "metadata": {},
     "output_type": "execute_result"
    }
   ],
   "source": [
    "X_train_2d"
   ]
  },
  {
   "cell_type": "code",
   "execution_count": 291,
   "metadata": {},
   "outputs": [
    {
     "data": {
      "text/html": [
       "<style>#sk-container-id-9 {color: black;background-color: white;}#sk-container-id-9 pre{padding: 0;}#sk-container-id-9 div.sk-toggleable {background-color: white;}#sk-container-id-9 label.sk-toggleable__label {cursor: pointer;display: block;width: 100%;margin-bottom: 0;padding: 0.3em;box-sizing: border-box;text-align: center;}#sk-container-id-9 label.sk-toggleable__label-arrow:before {content: \"▸\";float: left;margin-right: 0.25em;color: #696969;}#sk-container-id-9 label.sk-toggleable__label-arrow:hover:before {color: black;}#sk-container-id-9 div.sk-estimator:hover label.sk-toggleable__label-arrow:before {color: black;}#sk-container-id-9 div.sk-toggleable__content {max-height: 0;max-width: 0;overflow: hidden;text-align: left;background-color: #f0f8ff;}#sk-container-id-9 div.sk-toggleable__content pre {margin: 0.2em;color: black;border-radius: 0.25em;background-color: #f0f8ff;}#sk-container-id-9 input.sk-toggleable__control:checked~div.sk-toggleable__content {max-height: 200px;max-width: 100%;overflow: auto;}#sk-container-id-9 input.sk-toggleable__control:checked~label.sk-toggleable__label-arrow:before {content: \"▾\";}#sk-container-id-9 div.sk-estimator input.sk-toggleable__control:checked~label.sk-toggleable__label {background-color: #d4ebff;}#sk-container-id-9 div.sk-label input.sk-toggleable__control:checked~label.sk-toggleable__label {background-color: #d4ebff;}#sk-container-id-9 input.sk-hidden--visually {border: 0;clip: rect(1px 1px 1px 1px);clip: rect(1px, 1px, 1px, 1px);height: 1px;margin: -1px;overflow: hidden;padding: 0;position: absolute;width: 1px;}#sk-container-id-9 div.sk-estimator {font-family: monospace;background-color: #f0f8ff;border: 1px dotted black;border-radius: 0.25em;box-sizing: border-box;margin-bottom: 0.5em;}#sk-container-id-9 div.sk-estimator:hover {background-color: #d4ebff;}#sk-container-id-9 div.sk-parallel-item::after {content: \"\";width: 100%;border-bottom: 1px solid gray;flex-grow: 1;}#sk-container-id-9 div.sk-label:hover label.sk-toggleable__label {background-color: #d4ebff;}#sk-container-id-9 div.sk-serial::before {content: \"\";position: absolute;border-left: 1px solid gray;box-sizing: border-box;top: 0;bottom: 0;left: 50%;z-index: 0;}#sk-container-id-9 div.sk-serial {display: flex;flex-direction: column;align-items: center;background-color: white;padding-right: 0.2em;padding-left: 0.2em;position: relative;}#sk-container-id-9 div.sk-item {position: relative;z-index: 1;}#sk-container-id-9 div.sk-parallel {display: flex;align-items: stretch;justify-content: center;background-color: white;position: relative;}#sk-container-id-9 div.sk-item::before, #sk-container-id-9 div.sk-parallel-item::before {content: \"\";position: absolute;border-left: 1px solid gray;box-sizing: border-box;top: 0;bottom: 0;left: 50%;z-index: -1;}#sk-container-id-9 div.sk-parallel-item {display: flex;flex-direction: column;z-index: 1;position: relative;background-color: white;}#sk-container-id-9 div.sk-parallel-item:first-child::after {align-self: flex-end;width: 50%;}#sk-container-id-9 div.sk-parallel-item:last-child::after {align-self: flex-start;width: 50%;}#sk-container-id-9 div.sk-parallel-item:only-child::after {width: 0;}#sk-container-id-9 div.sk-dashed-wrapped {border: 1px dashed gray;margin: 0 0.4em 0.5em 0.4em;box-sizing: border-box;padding-bottom: 0.4em;background-color: white;}#sk-container-id-9 div.sk-label label {font-family: monospace;font-weight: bold;display: inline-block;line-height: 1.2em;}#sk-container-id-9 div.sk-label-container {text-align: center;}#sk-container-id-9 div.sk-container {/* jupyter's `normalize.less` sets `[hidden] { display: none; }` but bootstrap.min.css set `[hidden] { display: none !important; }` so we also need the `!important` here to be able to override the default hidden behavior on the sphinx rendered scikit-learn.org. See: https://github.com/scikit-learn/scikit-learn/issues/21755 */display: inline-block !important;position: relative;}#sk-container-id-9 div.sk-text-repr-fallback {display: none;}</style><div id=\"sk-container-id-9\" class=\"sk-top-container\"><div class=\"sk-text-repr-fallback\"><pre>MultinomialNB()</pre><b>In a Jupyter environment, please rerun this cell to show the HTML representation or trust the notebook. <br />On GitHub, the HTML representation is unable to render, please try loading this page with nbviewer.org.</b></div><div class=\"sk-container\" hidden><div class=\"sk-item\"><div class=\"sk-estimator sk-toggleable\"><input class=\"sk-toggleable__control sk-hidden--visually\" id=\"sk-estimator-id-9\" type=\"checkbox\" checked><label for=\"sk-estimator-id-9\" class=\"sk-toggleable__label sk-toggleable__label-arrow\">MultinomialNB</label><div class=\"sk-toggleable__content\"><pre>MultinomialNB()</pre></div></div></div></div></div>"
      ],
      "text/plain": [
       "MultinomialNB()"
      ]
     },
     "execution_count": 291,
     "metadata": {},
     "output_type": "execute_result"
    }
   ],
   "source": [
    "from sklearn.naive_bayes import MultinomialNB\n",
    "from sklearn.preprocessing import MinMaxScaler\n",
    "\n",
    "scaler=MinMaxScaler()\n",
    "\n",
    "scaled_train_embed=scaler.fit_transform(X_train_2d)\n",
    "scaled_test_embed=scaler.transform(X_test_2d)\n",
    "\n",
    "\n",
    "clf=MultinomialNB()\n",
    "clf.fit(scaled_train_embed,y_train)"
   ]
  },
  {
   "cell_type": "code",
   "execution_count": 292,
   "metadata": {},
   "outputs": [
    {
     "data": {
      "text/plain": [
       "300"
      ]
     },
     "execution_count": 292,
     "metadata": {},
     "output_type": "execute_result"
    }
   ],
   "source": [
    "len(scaled_train_embed[0])"
   ]
  },
  {
   "cell_type": "code",
   "execution_count": 293,
   "metadata": {},
   "outputs": [
    {
     "data": {
      "text/plain": [
       "array([[0.21945351, 0.34431323, 0.3741032 , ..., 0.3683661 , 0.5688021 ,\n",
       "        0.28735963],\n",
       "       [0.32940313, 0.4946605 , 0.5334776 , ..., 0.63255525, 0.6749734 ,\n",
       "        0.7248497 ],\n",
       "       [0.53760785, 0.4966918 , 0.54651755, ..., 0.5769987 , 0.57277244,\n",
       "        0.42831784],\n",
       "       ...,\n",
       "       [0.73873764, 0.64301836, 0.2887516 , ..., 0.5727656 , 0.3845992 ,\n",
       "        0.42999288],\n",
       "       [0.13233495, 0.193349  , 0.8250196 , ..., 0.3416348 , 0.6870241 ,\n",
       "        0.50736904],\n",
       "       [0.5710933 , 0.13076304, 0.50966597, ..., 0.4065566 , 0.5449169 ,\n",
       "        0.22445063]], dtype=float32)"
      ]
     },
     "execution_count": 293,
     "metadata": {},
     "output_type": "execute_result"
    }
   ],
   "source": [
    "scaled_test_embed"
   ]
  },
  {
   "cell_type": "code",
   "execution_count": 294,
   "metadata": {},
   "outputs": [],
   "source": [
    "pred=clf.predict(scaled_test_embed)"
   ]
  },
  {
   "cell_type": "code",
   "execution_count": 295,
   "metadata": {},
   "outputs": [
    {
     "data": {
      "text/plain": [
       "array(['Fungal infection', 'Hypertension', 'Chicken pox', 'Chicken pox',\n",
       "       'Impetigo', 'Pneumonia', 'peptic ulcer disease', 'Psoriasis',\n",
       "       'Jaundice', 'gastroesophageal reflux disease', 'Hypertension',\n",
       "       'Impetigo', 'Fungal infection', 'gastroesophageal reflux disease',\n",
       "       'Arthritis', 'Arthritis', 'Fungal infection', 'diabetes',\n",
       "       'diabetes', 'Acne', 'Chicken pox', 'Psoriasis', 'Impetigo',\n",
       "       'Pneumonia', 'Jaundice', 'Malaria', 'Dimorphic Hemorrhoids',\n",
       "       'Common Cold', 'Jaundice', 'Hypertension', 'Migraine', 'Pneumonia',\n",
       "       'Typhoid', 'Varicose Veins', 'Dimorphic Hemorrhoids',\n",
       "       'Chicken pox', 'Common Cold', 'diabetes', 'Pneumonia', 'Impetigo',\n",
       "       'Acne', 'Impetigo', 'Chicken pox', 'Acne', 'Jaundice',\n",
       "       'gastroesophageal reflux disease', 'Impetigo', 'Acne',\n",
       "       'Bronchial Asthma', 'Fungal infection', 'Hypertension',\n",
       "       'Psoriasis', 'Common Cold', 'Typhoid', 'Bronchial Asthma',\n",
       "       'Psoriasis', 'gastroesophageal reflux disease', 'Bronchial Asthma',\n",
       "       'Common Cold', 'Acne', 'Chicken pox', 'Malaria', 'Chicken pox',\n",
       "       'Jaundice', 'Pneumonia', 'Migraine', 'Cervical spondylosis',\n",
       "       'Chicken pox', 'Typhoid', 'Chicken pox', 'Hypertension', 'Malaria',\n",
       "       'Common Cold', 'gastroesophageal reflux disease', 'diabetes',\n",
       "       'Acne', 'Bronchial Asthma', 'Fungal infection', 'Typhoid',\n",
       "       'Cervical spondylosis', 'Migraine', 'Impetigo', 'Varicose Veins',\n",
       "       'Migraine', 'Hypertension', 'Hypertension',\n",
       "       'gastroesophageal reflux disease', 'Typhoid', 'Typhoid',\n",
       "       'Cervical spondylosis', 'Jaundice', 'urinary tract infection',\n",
       "       'Bronchial Asthma', 'Migraine', 'Fungal infection', 'Psoriasis',\n",
       "       'Migraine', 'Pneumonia', 'Fungal infection', 'Impetigo', 'Malaria',\n",
       "       'Typhoid', 'Arthritis', 'Cervical spondylosis',\n",
       "       'urinary tract infection', 'Varicose Veins', 'Bronchial Asthma',\n",
       "       'Typhoid', 'urinary tract infection', 'Common Cold', 'Psoriasis',\n",
       "       'Cervical spondylosis', 'Chicken pox', 'Acne', 'Arthritis',\n",
       "       'diabetes', 'Chicken pox', 'Jaundice',\n",
       "       'gastroesophageal reflux disease', 'Common Cold', 'Common Cold',\n",
       "       'Chicken pox', 'Psoriasis', 'Malaria', 'Varicose Veins',\n",
       "       'gastroesophageal reflux disease', 'Typhoid',\n",
       "       'Dimorphic Hemorrhoids', 'Varicose Veins', 'diabetes',\n",
       "       'gastroesophageal reflux disease', 'Malaria',\n",
       "       'peptic ulcer disease', 'Fungal infection', 'Bronchial Asthma',\n",
       "       'Hypertension', 'Migraine', 'Typhoid', 'Arthritis', 'Migraine',\n",
       "       'Impetigo', 'Cervical spondylosis', 'Malaria', 'Chicken pox',\n",
       "       'Dimorphic Hemorrhoids', 'Malaria', 'Acne', 'Jaundice',\n",
       "       'Varicose Veins', 'Arthritis', 'Bronchial Asthma',\n",
       "       'Varicose Veins', 'allergy', 'diabetes', 'Dimorphic Hemorrhoids',\n",
       "       'Impetigo', 'Cervical spondylosis', 'Psoriasis', 'allergy',\n",
       "       'Psoriasis', 'Dimorphic Hemorrhoids', 'Cervical spondylosis',\n",
       "       'Psoriasis', 'Pneumonia', 'Jaundice', 'Malaria', 'Dengue',\n",
       "       'Chicken pox', 'Impetigo', 'diabetes', 'drug reaction',\n",
       "       'Dimorphic Hemorrhoids', 'Migraine', 'diabetes',\n",
       "       'Cervical spondylosis', 'Dimorphic Hemorrhoids', 'Jaundice',\n",
       "       'Common Cold', 'Malaria', 'Dimorphic Hemorrhoids',\n",
       "       'Cervical spondylosis', 'Psoriasis', 'Migraine', 'Chicken pox',\n",
       "       'Acne', 'Hypertension', 'Malaria', 'Acne',\n",
       "       'gastroesophageal reflux disease',\n",
       "       'gastroesophageal reflux disease', 'Psoriasis',\n",
       "       'gastroesophageal reflux disease', 'Migraine', 'Chicken pox',\n",
       "       'Hypertension', 'Common Cold', 'allergy', 'Dimorphic Hemorrhoids',\n",
       "       'Malaria', 'Acne', 'Chicken pox', 'Psoriasis', 'Impetigo', 'Acne',\n",
       "       'urinary tract infection', 'Varicose Veins', 'Jaundice',\n",
       "       'Arthritis', 'Jaundice', 'Dengue', 'Migraine', 'Chicken pox',\n",
       "       'Acne', 'Cervical spondylosis', 'Hypertension', 'Acne', 'Jaundice',\n",
       "       'Fungal infection', 'Fungal infection', 'Pneumonia', 'allergy',\n",
       "       'Hypertension', 'Acne', 'Malaria', 'Dimorphic Hemorrhoids',\n",
       "       'gastroesophageal reflux disease', 'diabetes', 'Pneumonia',\n",
       "       'Impetigo', 'Hypertension', 'Jaundice', 'Typhoid',\n",
       "       'Varicose Veins', 'Arthritis', 'Dimorphic Hemorrhoids', 'Jaundice',\n",
       "       'Arthritis', 'allergy', 'Typhoid', 'peptic ulcer disease'],\n",
       "      dtype='<U31')"
      ]
     },
     "execution_count": 295,
     "metadata": {},
     "output_type": "execute_result"
    }
   ],
   "source": [
    "pred"
   ]
  },
  {
   "cell_type": "code",
   "execution_count": 296,
   "metadata": {},
   "outputs": [],
   "source": [
    "from sklearn.metrics import classification_report"
   ]
  },
  {
   "cell_type": "code",
   "execution_count": 297,
   "metadata": {},
   "outputs": [
    {
     "name": "stdout",
     "output_type": "stream",
     "text": [
      "                                 precision    recall  f1-score   support\n",
      "\n",
      "                           Acne       0.87      0.93      0.90        14\n",
      "                      Arthritis       0.89      0.89      0.89         9\n",
      "               Bronchial Asthma       0.62      0.71      0.67         7\n",
      "           Cervical spondylosis       0.73      0.73      0.73        11\n",
      "                    Chicken pox       0.50      0.75      0.60        12\n",
      "                    Common Cold       0.70      0.88      0.78         8\n",
      "                         Dengue       0.50      0.12      0.20         8\n",
      "          Dimorphic Hemorrhoids       0.75      1.00      0.86         9\n",
      "               Fungal infection       0.90      0.69      0.78        13\n",
      "                   Hypertension       0.62      0.50      0.55        16\n",
      "                       Impetigo       0.54      0.70      0.61        10\n",
      "                       Jaundice       0.87      1.00      0.93        13\n",
      "                        Malaria       0.62      1.00      0.76         8\n",
      "                       Migraine       0.67      0.57      0.62        14\n",
      "                      Pneumonia       0.67      0.75      0.71         8\n",
      "                      Psoriasis       0.46      0.67      0.55         9\n",
      "                        Typhoid       0.42      0.38      0.40        13\n",
      "                 Varicose Veins       0.78      0.70      0.74        10\n",
      "                        allergy       0.60      0.50      0.55         6\n",
      "                       diabetes       0.20      0.33      0.25         6\n",
      "                  drug reaction       0.00      0.00      0.00         8\n",
      "gastroesophageal reflux disease       0.77      0.83      0.80        12\n",
      "           peptic ulcer disease       0.67      0.25      0.36         8\n",
      "        urinary tract infection       1.00      0.50      0.67         8\n",
      "\n",
      "                       accuracy                           0.66       240\n",
      "                      macro avg       0.64      0.64      0.62       240\n",
      "                   weighted avg       0.66      0.66      0.64       240\n",
      "\n"
     ]
    }
   ],
   "source": [
    "print(classification_report(y_test,pred))"
   ]
  },
  {
   "cell_type": "markdown",
   "metadata": {},
   "source": [
    "Using KNN model\n"
   ]
  },
  {
   "cell_type": "code",
   "execution_count": 298,
   "metadata": {},
   "outputs": [],
   "source": [
    "# from sklearn.neighbors import KNeighborsClassifier\n",
    "\n",
    "# clf=KNeighborsClassifier(n_neighbors=5, metric='euclidean')\n",
    "\n",
    "# clf.fit(X_train_2d,y_train)\n",
    "\n",
    "# y_pred=clf.predict(X_test_2d)\n",
    "\n",
    "# print(classification_report(y_test,pred))"
   ]
  },
  {
   "cell_type": "code",
   "execution_count": 299,
   "metadata": {},
   "outputs": [],
   "source": [
    "# y_pred"
   ]
  },
  {
   "cell_type": "code",
   "execution_count": 300,
   "metadata": {},
   "outputs": [],
   "source": [
    "# y_test"
   ]
  },
  {
   "cell_type": "code",
   "execution_count": 301,
   "metadata": {},
   "outputs": [
    {
     "data": {
      "text/plain": [
       "numpy.ndarray"
      ]
     },
     "execution_count": 301,
     "metadata": {},
     "output_type": "execute_result"
    }
   ],
   "source": [
    "type(X_train)"
   ]
  },
  {
   "cell_type": "code",
   "execution_count": 302,
   "metadata": {},
   "outputs": [],
   "source": [
    "my_symptoms=\"I have been experiencing a skin rash on my arms, legs, and torso for the past few weeks. It is red, itchy, and covered in dry, scaly patches.\"\n",
    "my_vector=nlp(my_symptoms).vector\n",
    "# my_vector"
   ]
  },
  {
   "cell_type": "code",
   "execution_count": 303,
   "metadata": {},
   "outputs": [
    {
     "name": "stdout",
     "output_type": "stream",
     "text": [
      "['Fungal infection']\n"
     ]
    }
   ],
   "source": [
    "# final_pred_stack=np.stack(my_vector)\n",
    "# final_pred_stack\n",
    "# scaled_train_final=scaler.transform(my_vector)\n",
    "final_pred=clf.predict([my_vector])\n",
    "print(final_pred)"
   ]
  },
  {
   "cell_type": "code",
   "execution_count": 304,
   "metadata": {},
   "outputs": [],
   "source": [
    "# print(my_disease[final_pred-1])"
   ]
  }
 ],
 "metadata": {
  "kernelspec": {
   "display_name": "Python 3",
   "language": "python",
   "name": "python3"
  },
  "language_info": {
   "codemirror_mode": {
    "name": "ipython",
    "version": 3
   },
   "file_extension": ".py",
   "mimetype": "text/x-python",
   "name": "python",
   "nbconvert_exporter": "python",
   "pygments_lexer": "ipython3",
   "version": "3.10.6"
  },
  "orig_nbformat": 4
 },
 "nbformat": 4,
 "nbformat_minor": 2
}
